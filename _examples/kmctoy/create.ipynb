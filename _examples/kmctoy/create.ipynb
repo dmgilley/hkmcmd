{
 "cells": [
  {
   "cell_type": "code",
   "execution_count": 16,
   "metadata": {},
   "outputs": [],
   "source": [
    "import numpy as np\n",
    "from hybrid_mdmc.interactions import *\n",
    "from hybrid_mdmc.system import *"
   ]
  },
  {
   "cell_type": "markdown",
   "metadata": {},
   "source": [
    "Create a hybrid_mdmc.system.SystemData instance. The NAME and PREFIX can be changed to whatever you like."
   ]
  },
  {
   "cell_type": "code",
   "execution_count": 17,
   "metadata": {},
   "outputs": [],
   "source": [
    "my_system_data = SystemData(name=\"kmctoy\", prefix=\"kmctoy\")"
   ]
  },
  {
   "cell_type": "markdown",
   "metadata": {},
   "source": [
    "Fill in the Hybrid kMC/MD settings. These settings affect various hyperparameters as well as reaction parameters."
   ]
  },
  {
   "cell_type": "code",
   "execution_count": 18,
   "metadata": {},
   "outputs": [],
   "source": [
    "my_system_data.hkmcmd = {\n",
    "    \"temperature_rxn\": 126.48, # reaction temperature\n",
    "    \"temperature_rxn_units\": \"K\", # units of the above temperature\n",
    "    \"diffusion_cutoff\": 0.0, # minimum diffusion rate between the voxels containing the two reactants of a bimolecular reaction for their combination to be considered a reaction candidate\n",
    "    \"change_threshold\": 0.05, # the reactive kMC loop ends after (number of initial molecules * change_threshold) molecules have reacted\n",
    "    \"scale_rates\": False, # whether or not to scale the rates of the reactions\n",
    "    \"avoid_double_counts\": True, # whether or not to avoid counting i + j -> ij and i + j -> ji as two separate reactions\n",
    "    \"msd_start\": 0, # starting frame for MSD calculation\n",
    "    \"msd_every\": 1, # calculate MSD every msd_every frames\n",
    "    \"msd_end\": -1, # ending frame for MSD calculation\n",
    "}"
   ]
  },
  {
   "cell_type": "markdown",
   "metadata": {},
   "source": [
    "Fill in the reaction scaling settings. These settings affect how psuedo-steady-state is identified and how reaction rates are subsequently scaled. If reaction rate scaling is not being applied, scripts within hybrid_mdmc will ignore these settings."
   ]
  },
  {
   "cell_type": "code",
   "execution_count": 19,
   "metadata": {},
   "outputs": [],
   "source": [
    "my_system_data.scaling_reaction = {\n",
    "    \"concentration_cycles\": 1e99, # number of cycles over which the slope of the concentration must be less than or equal to the threshold\n",
    "    \"concentration_slope\": 0.0, # threshold slope of the concentration\n",
    "    \"reaction_selection_count\": 1e99, # number of times the reaction must have been selected in the defined window\n",
    "    \"windowsize_rxnselection\": 1e99, # window over which to count the number of reaction selections\n",
    "    \"windowsize_slope\": 1e99, # window over which to calculate the slope of the concentration\n",
    "    \"windowsize_scalingpause\": 1e99, # number of frames over which to pause scaling\n",
    "    \"scaling_factor\": 1.0, # factor by which to scale the reaction rate\n",
    "    \"scaling_minimum\": 1.0  # minimum value of the scaling factor\n",
    "}"
   ]
  },
  {
   "cell_type": "markdown",
   "metadata": {},
   "source": [
    "Fill in the diffuion scaling settings. These settings dictate how diffusion rates between voxels are calculated.  Interpretation of many of these settings requires reading through calculate_diffusion.py. If diffusion scaling is not being applied, \"well-mixed\" should be set to True, and scripts within hybrid_mdmc will ignore the other settings."
   ]
  },
  {
   "cell_type": "code",
   "execution_count": 27,
   "metadata": {},
   "outputs": [],
   "source": [
    "my_system_data.scaling_diffusion = {\n",
    "    \"number_of_voxels\": [6,6,6], # number of voxels in each dimension\n",
    "    \"x_bounds\": None, # voxel bounds in x dimension (overrides number_of_voxels if provided)\n",
    "    \"y_bounds\": None, # voxel bounds in y dimension (overrides number_of_voxels if provided)\n",
    "    \"z_bounds\": None, # voxel bounds in z dimension (overrides number_of_voxels if provided)\n",
    "    \"direct_transition_rates_method\": \"fuzzy_boundary\", # method for calculating local diffusion rates between voxels, from an MD trajectory; see calculate_difusion.py\n",
    "    \"global_diffusion_rates_method\": \"random_walk\", # method of calculating the global diffusion rates between voxels, from local diffusion rates; see calculate_diffusion.py\n",
    "    \"fuzz\": 0.1, # fuzz factor for fuzzy boundary method\n",
    "    \"trj_parse_start\": 1, # starting frame for parsing the trajectory\n",
    "    \"trj_parse_every\": 1, # parse every trj_parse_every frames\n",
    "    \"trj_parse_end\": -1, # ending frame for parsing the trajectory\n",
    "    \"average_across_voxel_neighbors\": True, # if True, local diffusion rates will be averaged over all calculated rates between voxels separated by the same distance\n",
    "    \"recursion_interval\": 1, # interval over which to iterate while calculating global diffusion rates from the random walk outputs\n",
    "    \"well-mixed\": True # if True, the system is assumed to be well-mixed and diffusion scaling is NOT applied\n",
    "}"
   ]
  },
  {
   "cell_type": "markdown",
   "metadata": {},
   "source": [
    "Fill in the LAMMPS information. Some of these settings are used when creating the LAMMPS in.data and in.init files, while others are used by hybrid_mdmc scripts in calculations. Definitions of many of these settings are explained in the LAMMPS documentation."
   ]
  },
  {
   "cell_type": "code",
   "execution_count": 30,
   "metadata": {},
   "outputs": [],
   "source": [
    "my_system_data.lammps = {\n",
    "    \"units\": \"lj\",\n",
    "    \"LJ_mass\": 2.65692461e-26, # reference mass for LJ units\n",
    "    \"LJ_mass_units\": \"kg\",\n",
    "    \"LJ_distance\": 3.4e-10, # reference distance for LJ units\n",
    "    \"LJ_distance_units\": \"m\",\n",
    "    \"LJ_energy\": 2.04964162e-21, # reference energy for LJ units\n",
    "    \"LJ_energy_units\": \"J\",\n",
    "    \"LJ_stepsize\": 0.001, # timestep of LAMMPS diffusion simulation, used for some calculations\n",
    "    \"time_conversion\": 1.22e-12, # conversion factor from LAMMPS time units to seconds\n",
    "    \"atom_style\": \"full\",\n",
    "    \"pair_style\": \"lj/cut 10.0\",\n",
    "    \"bond_style\": \"harmonic\",\n",
    "    \"angle_style\": \"harmonic\",\n",
    "    \"dihedral_style\": \"harmonic\",\n",
    "    \"improper_style\": \"harmonic\",\n",
    "    \"atom_types\": 2,\n",
    "    \"bond_types\": 1,\n",
    "    \"angle_types\": 0,\n",
    "    \"dihedral_types\": 0,\n",
    "    \"improper_types\": 0,\n",
    "    \"starting_A\": 400, # beginning number of A atoms\n",
    "    \"starting_A2\": 0, # beginning number of A2 atoms\n",
    "    \"starting_B\": 1000, # beginning number of B atoms\n",
    "    \"charged_atoms\": True # whether or not LAMMPS atom definitions will include charge\n",
    "}"
   ]
  },
  {
   "cell_type": "markdown",
   "metadata": {},
   "source": [
    "Define the chemistry of the system. This is kept in the SYSTEM.json file as many scripts require knowledge of system chemistry for various calculations. The system chemistry is held in template hybrid_mdmc.interactions.Molecule objects, one for each molecule type in the system. A Molecule object includes instances of hybrid_mdmc.interactions.Atom and hybrid_mdmc.interactions.IntraMode. A comprehensive list of the system atoms and the system bonded interactions is created from the list of Molecule objects when needed in individual scripts. Molecule definitions in the SystemData.species attribute can be self-containing; i.e. the molecule ID can be \"1\" and each atom ID can be 1 indexed, they need not be coherent with the system's other Molecule definitions. All the scripts have been written to understand that these are \"template\" Molecule objects, and will handle everything appropriately. (when creating a list of Molecule objects representing actual molecules of a system, not just the templates, this is NOT the case; molecule IDs, tom IDs, and IntraMode IDs must be coordinated)"
   ]
  },
  {
   "cell_type": "code",
   "execution_count": 34,
   "metadata": {},
   "outputs": [],
   "source": [
    "A_molecule = Molecule(\n",
    "    ID=1,\n",
    "    kind=\"A\",\n",
    "    atoms=[\n",
    "        Atom(ID=1, kind=1, molecule_ID=1, molecule_kind=\"A\", lammps_type=1, mass=1.0, x=0.0, y=0.0, z=0.0, charge=0.0),\n",
    "    ],\n",
    "    bonds=None,\n",
    "    angles=None,\n",
    "    dihedrals=None,\n",
    "    impropers=None,\n",
    ")\n",
    "A2_molecule = Molecule(\n",
    "    ID=1,\n",
    "    kind=\"A2\",\n",
    "    atoms=[\n",
    "        Atom(ID=1, kind=1, molecule_ID=1, molecule_kind=\"A2\", lammps_type=1, mass=1.0, x=-0.5, y=0.0, z=0.0, charge=0.0),\n",
    "        Atom(ID=2, kind=1, molecule_ID=1, molecule_kind=\"A2\", lammps_type=1, mass=1.0, x= 0.5, y=0.0, z=0.0, charge=0.0),\n",
    "    ],\n",
    "    bonds=[\n",
    "        IntraMode(ID=1, kind=1, atom_IDs=[1,2]),\n",
    "    ],\n",
    "    angles=None,\n",
    "    dihedrals=None,\n",
    "    impropers=None,\n",
    ")\n",
    "B_molecule = Molecule(\n",
    "    ID=1,\n",
    "    kind=\"B\",\n",
    "    atoms=[\n",
    "        Atom(ID=1, kind=2, molecule_ID=1, molecule_kind=\"B\", lammps_type=2, mass=2.0, x=0.0, y=0.0, z=0.0, charge=0.0),\n",
    "    ],\n",
    "    bonds=None,\n",
    "    angles=None,\n",
    "    dihedrals=None,\n",
    "    impropers=None,\n",
    ")\n",
    "\n",
    "my_system_data.species = [A_molecule, A2_molecule, B_molecule]"
   ]
  },
  {
   "cell_type": "markdown",
   "metadata": {},
   "source": [
    "Define the possible reactions of the system. Each reaction is held as a template hybrid_mdmc.interactions.Reaction object. The objects have attributes that are typical in the definition of a reaction (e.g. activation energy). It also holds a list of Molecule objects as reactants and another for products. In defining a reaction, specific atomic bonds are broken/formed. To respect this, the Molecule objects in the reactants and products list must be written as a cohesive system. This means \n",
    "1. atom IDs **cannot** overlap among reactants, nor products\n",
    "2. the set of atom IDs among the reactants should match exactly to the set of atom IDs among the products\n",
    "    - no atoms are created or destroyed, only their bonding behavior and their molecular assignment\n",
    "3. IntraMode IDs **cannot** overlap among reactants, nor products.\n",
    "4. the set of reactant IntraMode IDs need not be equal tot he set of product IntraMode IDs\n",
    "    - as bonds are broken and formed, bonds/angles/dihedrals/impropers may be destroyed or created"
   ]
  },
  {
   "cell_type": "code",
   "execution_count": 35,
   "metadata": {},
   "outputs": [],
   "source": [
    "# Forward reaction, A + A -> A2\n",
    "reactant_f1 = Molecule(\n",
    "    ID=1,\n",
    "    kind=\"A\",\n",
    "    atoms=[\n",
    "        Atom(ID=1, kind=1, molecule_ID=1, molecule_kind=\"A\", lammps_type=1, mass=1.0, x=0.0, y=0.0, z=0.0, charge=0.0),\n",
    "    ],\n",
    "    bonds=None,\n",
    "    angles=None,\n",
    "    dihedrals=None,\n",
    "    impropers=None,\n",
    ")\n",
    "reactant_f2 = Molecule(\n",
    "    ID=2,\n",
    "    kind=\"A\",\n",
    "    atoms=[\n",
    "        Atom(ID=2, kind=1, molecule_ID=2, molecule_kind=\"A\", lammps_type=1, mass=1.0, x=1.0, y=0.0, z=0.0, charge=0.0),\n",
    "    ],\n",
    "    bonds=None,\n",
    "    angles=None,\n",
    "    dihedrals=None,\n",
    "    impropers=None,\n",
    ")\n",
    "product_f1 = Molecule(\n",
    "    ID=3,\n",
    "    kind=\"A2\",\n",
    "    atoms=[\n",
    "        Atom(ID=1, kind=1, molecule_ID=3, molecule_kind=\"A2\", lammps_type=1, mass=1.0, x=0.0, y=0.0, z=0.0, charge=0.0),\n",
    "        Atom(ID=2, kind=1, molecule_ID=3, molecule_kind=\"A2\", lammps_type=1, mass=1.0, x=1.0, y=0.0, z=0.0, charge=0.0),\n",
    "    ],\n",
    "    bonds=[\n",
    "        IntraMode(ID=1, kind=1, atom_IDs=[1,2]),\n",
    "    ],\n",
    "    angles=None,\n",
    "    dihedrals=None,\n",
    "    impropers=None,\n",
    ")\n",
    "forward_reaction = Reaction(\n",
    "    ID=1,\n",
    "    kind=1,\n",
    "    reactant_molecules=[reactant_f1, reactant_f2],\n",
    "    product_molecules=[product_f1],\n",
    "    Ea=4.0511,\n",
    "    Ea_units=\"kcal/mol\",\n",
    "    A=1e8,\n",
    "    A_units=\"1/s\",\n",
    "    b=0.0,\n",
    ")\n",
    "\n",
    "# Reverse reaction, A2 -> A + A\n",
    "reactant_r1 = Molecule(\n",
    "    ID=1,\n",
    "    kind=\"A2\",\n",
    "    atoms=[\n",
    "        Atom(ID=1, kind=1, molecule_ID=1, molecule_kind=\"A2\", lammps_type=1, mass=1.0, x=0.0, y=0.0, z=0.0, charge=0.0),\n",
    "        Atom(ID=2, kind=1, molecule_ID=1, molecule_kind=\"A2\", lammps_type=1, mass=1.0, x=1.0, y=0.0, z=0.0, charge=0.0),\n",
    "    ],\n",
    "    bonds=[\n",
    "        IntraMode(ID=1, kind=1, atom_IDs=[1,2]),\n",
    "    ],\n",
    "    angles=None,\n",
    "    dihedrals=None,\n",
    "    impropers=None,\n",
    ")\n",
    "product_r1 = Molecule(\n",
    "    ID=2,\n",
    "    kind=\"A\",\n",
    "    atoms=[\n",
    "        Atom(ID=1, kind=1, molecule_ID=2, molecule_kind=\"A\", lammps_type=1, mass=1.0, x=0.0, y=0.0, z=0.0, charge=0.0),\n",
    "    ],\n",
    "    bonds=None,\n",
    "    angles=None,\n",
    "    dihedrals=None,\n",
    "    impropers=None,\n",
    ")\n",
    "product_r2 = Molecule(\n",
    "    ID=3,\n",
    "    kind=\"A\",\n",
    "    atoms=[\n",
    "        Atom(ID=2, kind=1, molecule_ID=3, molecule_kind=\"A\", lammps_type=1, mass=1.0, x=1.0, y=0.0, z=0.0, charge=0.0),\n",
    "    ],\n",
    "    bonds=None,\n",
    "    angles=None,\n",
    "    dihedrals=None,\n",
    "    impropers=None,\n",
    ")\n",
    "reverse_reaction = Reaction(\n",
    "    ID=2,\n",
    "    kind=2,\n",
    "    reactant_molecules=[reactant_r1],\n",
    "    product_molecules=[product_r1, product_r2],\n",
    "    Ea=2.8937,\n",
    "    Ea_units=\"kcal/mol\",\n",
    "    A=1e8,\n",
    "    A_units=\"1/s\",\n",
    "    b=0.0,\n",
    ")\n",
    "\n",
    "my_system_data.reactions = [forward_reaction, reverse_reaction]"
   ]
  },
  {
   "cell_type": "markdown",
   "metadata": {},
   "source": [
    "Fill in the information required to write the LAMMPS in.init file for the initial MD run. This information is used by hybrid_mdmc.filehandlers.LammpsInitHandler to write the in.init file."
   ]
  },
  {
   "cell_type": "code",
   "execution_count": 24,
   "metadata": {},
   "outputs": [],
   "source": [
    "my_system_data.MD_initial = {\n",
    "    \"run_name\": [\n",
    "        \"shrink\",\n",
    "        \"diffusion\",\n",
    "    ],\n",
    "    \"run_style\": [\n",
    "        \"nvt deform\",\n",
    "        \"nvt\",\n",
    "    ],\n",
    "    \"run_stepsize\": [\n",
    "        0.001,\n",
    "        0.001,\n",
    "    ],\n",
    "    \"run_steps\": [\n",
    "        15000,\n",
    "        50000,\n",
    "    ],\n",
    "    \"run_temperature\": [\n",
    "        \"0.852 0.852 0.425\",\n",
    "        \"0.852 0.852 0.425\",\n",
    "    ],\n",
    "    \"run_pressure_volume\": [\n",
    "        \"1 x final -5.25 5.25 y final -5.25 5.25 z final -5.25 5.25 units box\",\n",
    "        None,\n",
    "    ],\n",
    "    \"thermo_freq\": 100,\n",
    "    \"coords_freq\": 200,\n",
    "    \"avg_calculate_every\": 50,\n",
    "    \"avg_number_of_steps\": 10,\n",
    "    \"avg_stepsize\": 5,\n",
    "    \"units\": \"lj\",\n",
    "    \"atom_style\": \"full\",\n",
    "    \"dimension\": 3,\n",
    "    \"newton\": \"on\",\n",
    "    \"pair_style\": \"lj/cut 3.0\",\n",
    "    \"bond_style\": \"harmonic\",\n",
    "    \"angle_style\": \"harmonic\",\n",
    "    \"dihedral_style\": \"opls\",\n",
    "    \"improper_style\": \"cvff\",\n",
    "    \"thermo_keywords\": \"temp press ke pe ebond evdwl\",\n",
    "    \"neigh_modify\": \"every 5 delay 0 check no one 10000\",\n",
    "    \"write_trajectories\": True,\n",
    "    \"write_intermediate_restarts\": False,\n",
    "    \"write_final_data\": True,\n",
    "    \"write_final_restarts\": True\n",
    "}"
   ]
  },
  {
   "cell_type": "markdown",
   "metadata": {},
   "source": [
    "Fill in the information required to write the LAMMPS in.init file for each diffusive cycle's MD run. This information is used by hybrid_mdmc.filehandlers.LammpsInitHandler to write the in.init file."
   ]
  },
  {
   "cell_type": "code",
   "execution_count": 25,
   "metadata": {},
   "outputs": [],
   "source": [
    "my_system_data.MD_cycling = {\n",
    "    \"run_name\": [\n",
    "        \"relax\",\n",
    "        \"equil\",\n",
    "        \"diffusion\",\n",
    "    ],\n",
    "    \"run_style\": [\n",
    "        \"nve/limit\",\n",
    "        \"nve\",\n",
    "        \"nve\",\n",
    "    ],\n",
    "    \"run_stepsize\": [\n",
    "        0.00025,\n",
    "        0.001,\n",
    "        0.001,\n",
    "    ],\n",
    "    \"run_steps\": [\n",
    "        1000,\n",
    "        2000,\n",
    "        10000,\n",
    "    ],\n",
    "    \"run_temperature\": [\n",
    "        \"0.852 0.852 0.425\",\n",
    "        \"0.852 0.852 0.425\",\n",
    "        \"0.852 0.852 0.425\",\n",
    "    ],\n",
    "    \"run_pressure_volume\": [\n",
    "        0.03,\n",
    "        None,\n",
    "        None,\n",
    "    ],\n",
    "    \"thermo_freq\": 100,\n",
    "    \"coords_freq\": 100,\n",
    "    \"avg_calculate_every\": 50,\n",
    "    \"avg_number_of_steps\": 10,\n",
    "    \"avg_stepsize\": 5,\n",
    "    \"units\": \"lj\",\n",
    "    \"atom_style\": \"full\",\n",
    "    \"dimension\": 3,\n",
    "    \"newton\": \"on\",\n",
    "    \"pair_style\": \"lj/cut 3.0\",\n",
    "    \"bond_style\": \"harmonic\",\n",
    "    \"angle_style\": \"harmonic\",\n",
    "    \"dihedral_style\": \"opls\",\n",
    "    \"improper_style\": \"cvff\",\n",
    "    \"thermo_keywords\": \"temp press ke pe ebond evdwl\",\n",
    "    \"neigh_modify\": \"every 5 delay 0 check no one 10000\",\n",
    "    \"write_trajectories\": True,\n",
    "    \"write_intermediate_restarts\": False,\n",
    "    \"write_final_data\": True,\n",
    "    \"write_final_restarts\": True\n",
    "}"
   ]
  },
  {
   "cell_type": "markdown",
   "metadata": {},
   "source": [
    "Finally, write the SystemDat object to a json file."
   ]
  },
  {
   "cell_type": "code",
   "execution_count": 36,
   "metadata": {},
   "outputs": [],
   "source": [
    "my_system_data.write_json()"
   ]
  },
  {
   "cell_type": "code",
   "execution_count": null,
   "metadata": {},
   "outputs": [],
   "source": []
  }
 ],
 "metadata": {
  "kernelspec": {
   "display_name": "base",
   "language": "python",
   "name": "python3"
  },
  "language_info": {
   "codemirror_mode": {
    "name": "ipython",
    "version": 3
   },
   "file_extension": ".py",
   "mimetype": "text/x-python",
   "name": "python",
   "nbconvert_exporter": "python",
   "pygments_lexer": "ipython3",
   "version": "3.8.19"
  }
 },
 "nbformat": 4,
 "nbformat_minor": 2
}

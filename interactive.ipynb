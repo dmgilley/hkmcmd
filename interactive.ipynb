{
 "cells": [
  {
   "cell_type": "code",
   "execution_count": 1,
   "metadata": {},
   "outputs": [],
   "source": [
    "import os,sys,datetime\n",
    "import numpy as np\n",
    "from scipy.spatial.distance import *\n",
    "from copy import deepcopy\n",
    "from hybrid_mdmc.data_file_parser import parse_data_file\n",
    "from hybrid_mdmc.lammps_files_classes import LammpsInitHandler\n",
    "from hybrid_mdmc.customargparse import HMDMC_ArgumentParser\n",
    "from hybrid_mdmc.classes import *\n",
    "from hybrid_mdmc.parsers import *\n",
    "from hybrid_mdmc.kmc import *\n",
    "from hybrid_mdmc.functions import *\n",
    "from hybrid_mdmc.calc_voxels import *\n",
    "from hybrid_mdmc.diffusion import *\n",
    "from textwrap import dedent"
   ]
  },
  {
   "cell_type": "code",
   "execution_count": 9,
   "metadata": {},
   "outputs": [
    {
     "name": "stdout",
     "output_type": "stream",
     "text": [
      "                               0       1    2     3     4    5\n",
      "0                        Species     NaN    A    A2   NaN    B\n",
      "2   Starting Number of Particles     NaN  200   100   NaN  600\n",
      "4                          Atoms      ID    1     1  2.00    1\n",
      "5                            NaN    type    1     1  1.00    2\n",
      "6                            NaN  charge    0     0  0.00    0\n",
      "7                            NaN       x    0 -0.75  0.75    0\n",
      "8                            NaN       y    0     0  0.00    0\n",
      "9                            NaN       z    0     0  0.00    0\n",
      "11                         Bonds      ID  NaN     1   NaN  NaN\n",
      "12                           NaN    type  NaN     1   NaN  NaN\n",
      "13                           NaN       i  NaN     1   NaN  NaN\n",
      "14                           NaN       j  NaN     2   NaN  NaN\n",
      "16                        Angles      ID  NaN   NaN   NaN  NaN\n",
      "17                           NaN    type  NaN   NaN   NaN  NaN\n",
      "18                           NaN       i  NaN   NaN   NaN  NaN\n",
      "19                           NaN       j  NaN   NaN   NaN  NaN\n",
      "20                           NaN       k  NaN   NaN   NaN  NaN\n",
      "22                     Dihedrals      ID  NaN   NaN   NaN  NaN\n",
      "23                           NaN    type  NaN   NaN   NaN  NaN\n",
      "24                           NaN       i  NaN   NaN   NaN  NaN\n",
      "25                           NaN       j  NaN   NaN   NaN  NaN\n",
      "26                           NaN       k  NaN   NaN   NaN  NaN\n",
      "27                           NaN       l  NaN   NaN   NaN  NaN\n",
      "29                     Impropers      ID  NaN   NaN   NaN  NaN\n",
      "30                           NaN    type  NaN   NaN   NaN  NaN\n",
      "31                           NaN       i  NaN   NaN   NaN  NaN\n",
      "32                           NaN       j  NaN   NaN   NaN  NaN\n",
      "33                           NaN       k  NaN   NaN   NaN  NaN\n",
      "34                           NaN       l  NaN   NaN   NaN  NaN\n",
      "0     object\n",
      "1     object\n",
      "2     object\n",
      "3     object\n",
      "4    float64\n",
      "5     object\n",
      "dtype: object\n"
     ]
    }
   ],
   "source": [
    "notebook = pd.read_excel('toy8_notebook.xlsx',sheet_name=None,index_col=None,header=None)\n",
    "notebook['Species'] = notebook['Species'].astype({col:object for col in notebook['Species'].columns})\n",
    "notebook['Species'].replace(['nan', '-'], np.nan, inplace=True)#.infer_objects()\n",
    "notebook['Species'].dropna(how='all', inplace=True)\n",
    "\n",
    "print(notebook['Species'])\n",
    "print(notebook['Species'].dtypes)"
   ]
  },
  {
   "cell_type": "code",
   "execution_count": 3,
   "metadata": {},
   "outputs": [
    {
     "data": {
      "text/plain": [
       "float"
      ]
     },
     "execution_count": 3,
     "metadata": {},
     "output_type": "execute_result"
    }
   ],
   "source": [
    "type(np.nan)"
   ]
  },
  {
   "cell_type": "code",
   "execution_count": null,
   "metadata": {},
   "outputs": [],
   "source": []
  }
 ],
 "metadata": {
  "kernelspec": {
   "display_name": "base",
   "language": "python",
   "name": "python3"
  },
  "language_info": {
   "codemirror_mode": {
    "name": "ipython",
    "version": 3
   },
   "file_extension": ".py",
   "mimetype": "text/x-python",
   "name": "python",
   "nbconvert_exporter": "python",
   "pygments_lexer": "ipython3",
   "version": "3.8.19"
  }
 },
 "nbformat": 4,
 "nbformat_minor": 2
}
